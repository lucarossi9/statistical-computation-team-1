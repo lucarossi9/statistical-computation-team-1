{
 "cells": [
  {
   "cell_type": "code",
   "execution_count": 3,
   "id": "46271f39-2e8d-4e09-99d6-3ff27dbcceda",
   "metadata": {},
   "outputs": [],
   "source": [
    "import numpy as np\n",
    "import pandas as pd\n",
    "import matplotlib.pyplot as plt\n",
    "import scipy\n",
    "import scipy.stats\n",
    "import math as mt\n",
    "import seaborn as sns"
   ]
  },
  {
   "cell_type": "code",
   "execution_count": 9,
   "id": "0fecf8b9-d93c-4cc7-b018-0d2748495c17",
   "metadata": {},
   "outputs": [],
   "source": [
    "data = pd.read_csv(r\"C:\\Users\\Ica\\Desktop\\statistical-computation-team-1\\student-por preprocessed def.csv\", sep=';')"
   ]
  },
  {
   "cell_type": "code",
   "execution_count": 5,
   "id": "0fd65d29-53c3-40cf-bdb4-c0fbf4de7438",
   "metadata": {},
   "outputs": [
    {
     "data": {
      "text/html": [
       "<div>\n",
       "<style scoped>\n",
       "    .dataframe tbody tr th:only-of-type {\n",
       "        vertical-align: middle;\n",
       "    }\n",
       "\n",
       "    .dataframe tbody tr th {\n",
       "        vertical-align: top;\n",
       "    }\n",
       "\n",
       "    .dataframe thead th {\n",
       "        text-align: right;\n",
       "    }\n",
       "</style>\n",
       "<table border=\"1\" class=\"dataframe\">\n",
       "  <thead>\n",
       "    <tr style=\"text-align: right;\">\n",
       "      <th></th>\n",
       "      <th>school</th>\n",
       "      <th>sex</th>\n",
       "      <th>age</th>\n",
       "      <th>address</th>\n",
       "      <th>Famsize</th>\n",
       "      <th>Pstatus</th>\n",
       "      <th>Medu</th>\n",
       "      <th>Fedu</th>\n",
       "      <th>Mjob</th>\n",
       "      <th>Fjob</th>\n",
       "      <th>...</th>\n",
       "      <th>Famrel</th>\n",
       "      <th>Freetime</th>\n",
       "      <th>goout</th>\n",
       "      <th>Dalc</th>\n",
       "      <th>Walc</th>\n",
       "      <th>Health</th>\n",
       "      <th>absences</th>\n",
       "      <th>G1</th>\n",
       "      <th>G2</th>\n",
       "      <th>G3</th>\n",
       "    </tr>\n",
       "  </thead>\n",
       "  <tbody>\n",
       "    <tr>\n",
       "      <th>0</th>\n",
       "      <td>GP</td>\n",
       "      <td>[0,1]</td>\n",
       "      <td>18</td>\n",
       "      <td>[0,1]</td>\n",
       "      <td>[0,1]</td>\n",
       "      <td>[0,1]</td>\n",
       "      <td>4</td>\n",
       "      <td>4</td>\n",
       "      <td>[0,0,0,1,0]</td>\n",
       "      <td>[1,0,0,0,0]</td>\n",
       "      <td>...</td>\n",
       "      <td>4</td>\n",
       "      <td>3</td>\n",
       "      <td>4</td>\n",
       "      <td>1</td>\n",
       "      <td>1</td>\n",
       "      <td>3</td>\n",
       "      <td>4</td>\n",
       "      <td>0</td>\n",
       "      <td>11</td>\n",
       "      <td>11</td>\n",
       "    </tr>\n",
       "    <tr>\n",
       "      <th>1</th>\n",
       "      <td>GP</td>\n",
       "      <td>[0,1]</td>\n",
       "      <td>17</td>\n",
       "      <td>[0,1]</td>\n",
       "      <td>[0,1]</td>\n",
       "      <td>[1,0]</td>\n",
       "      <td>1</td>\n",
       "      <td>1</td>\n",
       "      <td>[0,0,0,1,0]</td>\n",
       "      <td>[0,0,0,0,1]</td>\n",
       "      <td>...</td>\n",
       "      <td>5</td>\n",
       "      <td>3</td>\n",
       "      <td>3</td>\n",
       "      <td>1</td>\n",
       "      <td>1</td>\n",
       "      <td>3</td>\n",
       "      <td>2</td>\n",
       "      <td>9</td>\n",
       "      <td>11</td>\n",
       "      <td>11</td>\n",
       "    </tr>\n",
       "    <tr>\n",
       "      <th>2</th>\n",
       "      <td>GP</td>\n",
       "      <td>[0,1]</td>\n",
       "      <td>15</td>\n",
       "      <td>[0,1]</td>\n",
       "      <td>[1,0]</td>\n",
       "      <td>[1,0]</td>\n",
       "      <td>1</td>\n",
       "      <td>1</td>\n",
       "      <td>[0,0,0,1,0]</td>\n",
       "      <td>[0,0,0,0,1]</td>\n",
       "      <td>...</td>\n",
       "      <td>4</td>\n",
       "      <td>3</td>\n",
       "      <td>2</td>\n",
       "      <td>2</td>\n",
       "      <td>3</td>\n",
       "      <td>3</td>\n",
       "      <td>6</td>\n",
       "      <td>12</td>\n",
       "      <td>13</td>\n",
       "      <td>12</td>\n",
       "    </tr>\n",
       "    <tr>\n",
       "      <th>3</th>\n",
       "      <td>GP</td>\n",
       "      <td>[0,1]</td>\n",
       "      <td>15</td>\n",
       "      <td>[0,1]</td>\n",
       "      <td>[0,1]</td>\n",
       "      <td>[1,0]</td>\n",
       "      <td>4</td>\n",
       "      <td>2</td>\n",
       "      <td>[0,1,0,0,0]</td>\n",
       "      <td>[0,0,1,0,0]</td>\n",
       "      <td>...</td>\n",
       "      <td>3</td>\n",
       "      <td>2</td>\n",
       "      <td>2</td>\n",
       "      <td>1</td>\n",
       "      <td>1</td>\n",
       "      <td>5</td>\n",
       "      <td>0</td>\n",
       "      <td>14</td>\n",
       "      <td>14</td>\n",
       "      <td>14</td>\n",
       "    </tr>\n",
       "    <tr>\n",
       "      <th>4</th>\n",
       "      <td>GP</td>\n",
       "      <td>[0,1]</td>\n",
       "      <td>16</td>\n",
       "      <td>[0,1]</td>\n",
       "      <td>[0,1]</td>\n",
       "      <td>[1,0]</td>\n",
       "      <td>3</td>\n",
       "      <td>3</td>\n",
       "      <td>[0,0,0,0,1]</td>\n",
       "      <td>[0,0,0,0,1]</td>\n",
       "      <td>...</td>\n",
       "      <td>4</td>\n",
       "      <td>3</td>\n",
       "      <td>2</td>\n",
       "      <td>1</td>\n",
       "      <td>2</td>\n",
       "      <td>5</td>\n",
       "      <td>0</td>\n",
       "      <td>11</td>\n",
       "      <td>13</td>\n",
       "      <td>13</td>\n",
       "    </tr>\n",
       "    <tr>\n",
       "      <th>...</th>\n",
       "      <td>...</td>\n",
       "      <td>...</td>\n",
       "      <td>...</td>\n",
       "      <td>...</td>\n",
       "      <td>...</td>\n",
       "      <td>...</td>\n",
       "      <td>...</td>\n",
       "      <td>...</td>\n",
       "      <td>...</td>\n",
       "      <td>...</td>\n",
       "      <td>...</td>\n",
       "      <td>...</td>\n",
       "      <td>...</td>\n",
       "      <td>...</td>\n",
       "      <td>...</td>\n",
       "      <td>...</td>\n",
       "      <td>...</td>\n",
       "      <td>...</td>\n",
       "      <td>...</td>\n",
       "      <td>...</td>\n",
       "      <td>...</td>\n",
       "    </tr>\n",
       "    <tr>\n",
       "      <th>644</th>\n",
       "      <td>MS</td>\n",
       "      <td>[0,1]</td>\n",
       "      <td>19</td>\n",
       "      <td>[1,0]</td>\n",
       "      <td>[0,1]</td>\n",
       "      <td>[1,0]</td>\n",
       "      <td>2</td>\n",
       "      <td>3</td>\n",
       "      <td>[0,0,1,0,0]</td>\n",
       "      <td>[0,0,0,0,1]</td>\n",
       "      <td>...</td>\n",
       "      <td>5</td>\n",
       "      <td>4</td>\n",
       "      <td>2</td>\n",
       "      <td>1</td>\n",
       "      <td>2</td>\n",
       "      <td>5</td>\n",
       "      <td>4</td>\n",
       "      <td>10</td>\n",
       "      <td>11</td>\n",
       "      <td>10</td>\n",
       "    </tr>\n",
       "    <tr>\n",
       "      <th>645</th>\n",
       "      <td>MS</td>\n",
       "      <td>[0,1]</td>\n",
       "      <td>18</td>\n",
       "      <td>[0,1]</td>\n",
       "      <td>[1,0]</td>\n",
       "      <td>[1,0]</td>\n",
       "      <td>3</td>\n",
       "      <td>1</td>\n",
       "      <td>[1,0,0,0,0]</td>\n",
       "      <td>[0,0,1,0,0]</td>\n",
       "      <td>...</td>\n",
       "      <td>4</td>\n",
       "      <td>3</td>\n",
       "      <td>4</td>\n",
       "      <td>1</td>\n",
       "      <td>1</td>\n",
       "      <td>1</td>\n",
       "      <td>4</td>\n",
       "      <td>15</td>\n",
       "      <td>15</td>\n",
       "      <td>16</td>\n",
       "    </tr>\n",
       "    <tr>\n",
       "      <th>646</th>\n",
       "      <td>MS</td>\n",
       "      <td>[0,1]</td>\n",
       "      <td>18</td>\n",
       "      <td>[0,1]</td>\n",
       "      <td>[0,1]</td>\n",
       "      <td>[1,0]</td>\n",
       "      <td>1</td>\n",
       "      <td>1</td>\n",
       "      <td>[0,0,0,0,1]</td>\n",
       "      <td>[0,0,0,0,1]</td>\n",
       "      <td>...</td>\n",
       "      <td>1</td>\n",
       "      <td>1</td>\n",
       "      <td>1</td>\n",
       "      <td>1</td>\n",
       "      <td>1</td>\n",
       "      <td>5</td>\n",
       "      <td>6</td>\n",
       "      <td>11</td>\n",
       "      <td>12</td>\n",
       "      <td>9</td>\n",
       "    </tr>\n",
       "    <tr>\n",
       "      <th>647</th>\n",
       "      <td>MS</td>\n",
       "      <td>[1,0]</td>\n",
       "      <td>17</td>\n",
       "      <td>[0,1]</td>\n",
       "      <td>[1,0]</td>\n",
       "      <td>[1,0]</td>\n",
       "      <td>3</td>\n",
       "      <td>1</td>\n",
       "      <td>[0,0,1,0,0]</td>\n",
       "      <td>[0,0,1,0,0]</td>\n",
       "      <td>...</td>\n",
       "      <td>2</td>\n",
       "      <td>4</td>\n",
       "      <td>5</td>\n",
       "      <td>3</td>\n",
       "      <td>4</td>\n",
       "      <td>2</td>\n",
       "      <td>6</td>\n",
       "      <td>10</td>\n",
       "      <td>10</td>\n",
       "      <td>10</td>\n",
       "    </tr>\n",
       "    <tr>\n",
       "      <th>648</th>\n",
       "      <td>MS</td>\n",
       "      <td>[1,0]</td>\n",
       "      <td>18</td>\n",
       "      <td>[1,0]</td>\n",
       "      <td>[1,0]</td>\n",
       "      <td>[1,0]</td>\n",
       "      <td>3</td>\n",
       "      <td>2</td>\n",
       "      <td>[0,0,1,0,0]</td>\n",
       "      <td>[0,0,0,0,1]</td>\n",
       "      <td>...</td>\n",
       "      <td>4</td>\n",
       "      <td>4</td>\n",
       "      <td>1</td>\n",
       "      <td>3</td>\n",
       "      <td>4</td>\n",
       "      <td>5</td>\n",
       "      <td>4</td>\n",
       "      <td>10</td>\n",
       "      <td>11</td>\n",
       "      <td>11</td>\n",
       "    </tr>\n",
       "  </tbody>\n",
       "</table>\n",
       "<p>649 rows × 33 columns</p>\n",
       "</div>"
      ],
      "text/plain": [
       "    school    sex  age address Famsize Pstatus  Medu  Fedu         Mjob  \\\n",
       "0       GP  [0,1]   18   [0,1]   [0,1]   [0,1]     4     4  [0,0,0,1,0]   \n",
       "1       GP  [0,1]   17   [0,1]   [0,1]   [1,0]     1     1  [0,0,0,1,0]   \n",
       "2       GP  [0,1]   15   [0,1]   [1,0]   [1,0]     1     1  [0,0,0,1,0]   \n",
       "3       GP  [0,1]   15   [0,1]   [0,1]   [1,0]     4     2  [0,1,0,0,0]   \n",
       "4       GP  [0,1]   16   [0,1]   [0,1]   [1,0]     3     3  [0,0,0,0,1]   \n",
       "..     ...    ...  ...     ...     ...     ...   ...   ...          ...   \n",
       "644     MS  [0,1]   19   [1,0]   [0,1]   [1,0]     2     3  [0,0,1,0,0]   \n",
       "645     MS  [0,1]   18   [0,1]   [1,0]   [1,0]     3     1  [1,0,0,0,0]   \n",
       "646     MS  [0,1]   18   [0,1]   [0,1]   [1,0]     1     1  [0,0,0,0,1]   \n",
       "647     MS  [1,0]   17   [0,1]   [1,0]   [1,0]     3     1  [0,0,1,0,0]   \n",
       "648     MS  [1,0]   18   [1,0]   [1,0]   [1,0]     3     2  [0,0,1,0,0]   \n",
       "\n",
       "            Fjob  ... Famrel Freetime  goout  Dalc  Walc Health absences  G1  \\\n",
       "0    [1,0,0,0,0]  ...      4        3      4     1     1      3        4   0   \n",
       "1    [0,0,0,0,1]  ...      5        3      3     1     1      3        2   9   \n",
       "2    [0,0,0,0,1]  ...      4        3      2     2     3      3        6  12   \n",
       "3    [0,0,1,0,0]  ...      3        2      2     1     1      5        0  14   \n",
       "4    [0,0,0,0,1]  ...      4        3      2     1     2      5        0  11   \n",
       "..           ...  ...    ...      ...    ...   ...   ...    ...      ...  ..   \n",
       "644  [0,0,0,0,1]  ...      5        4      2     1     2      5        4  10   \n",
       "645  [0,0,1,0,0]  ...      4        3      4     1     1      1        4  15   \n",
       "646  [0,0,0,0,1]  ...      1        1      1     1     1      5        6  11   \n",
       "647  [0,0,1,0,0]  ...      2        4      5     3     4      2        6  10   \n",
       "648  [0,0,0,0,1]  ...      4        4      1     3     4      5        4  10   \n",
       "\n",
       "     G2  G3  \n",
       "0    11  11  \n",
       "1    11  11  \n",
       "2    13  12  \n",
       "3    14  14  \n",
       "4    13  13  \n",
       "..   ..  ..  \n",
       "644  11  10  \n",
       "645  15  16  \n",
       "646  12   9  \n",
       "647  10  10  \n",
       "648  11  11  \n",
       "\n",
       "[649 rows x 33 columns]"
      ]
     },
     "execution_count": 5,
     "metadata": {},
     "output_type": "execute_result"
    }
   ],
   "source": [
    "data"
   ]
  },
  {
   "cell_type": "code",
   "execution_count": 6,
   "id": "a2ab62e1-dc1d-4a93-9250-e4e5a589e393",
   "metadata": {},
   "outputs": [
    {
     "data": {
      "text/plain": [
       "Index(['school', 'sex', 'age', 'address', 'Famsize', 'Pstatus', 'Medu', 'Fedu',\n",
       "       'Mjob', 'Fjob', 'reason', 'guardian', 'traveltime', 'studytime',\n",
       "       'Failures', 'schoolsup', 'Famsup', 'paid', 'activities', 'nursery',\n",
       "       'higher', 'internet', 'romantic', 'Famrel', 'Freetime', 'goout', 'Dalc',\n",
       "       'Walc', 'Health', 'absences', 'G1', 'G2', 'G3'],\n",
       "      dtype='object')"
      ]
     },
     "execution_count": 6,
     "metadata": {},
     "output_type": "execute_result"
    }
   ],
   "source": [
    "data.columns"
   ]
  },
  {
   "cell_type": "code",
   "execution_count": 11,
   "id": "56e7766c-c255-4bec-b9ef-3395d815c078",
   "metadata": {},
   "outputs": [
    {
     "name": "stdout",
     "output_type": "stream",
     "text": [
      "Correlation coefficient r:\n",
      "-0.14744054515158145\n",
      "with standard error SE:\n",
      "0.03845941964984769\n"
     ]
    }
   ],
   "source": [
    "#correlation coefficient between Study time ad Failures\n",
    "x=data.studytime\n",
    "y=data.Failures\n",
    "s=np.mean(x)\n",
    "f=np.mean(y)\n",
    "n=len(x)\n",
    "r=np.inner((x-s),(y-f))/mt.sqrt(sum((x-s)**2)*sum((y-f)**2)) \n",
    "SE=(1-r**2)/mt.sqrt(n-2) #standard error\n",
    "print('Correlation coefficient r:')\n",
    "print(r)\n",
    "print('with standard error SE:')\n",
    "print(SE)"
   ]
  },
  {
   "cell_type": "code",
   "execution_count": 12,
   "id": "17d973d0-5b91-46f5-9c7d-0eaa552e594a",
   "metadata": {},
   "outputs": [],
   "source": [
    "r=np.corrcoef(x, y)[1,0] #correlation coefficient"
   ]
  },
  {
   "cell_type": "code",
   "execution_count": 13,
   "id": "493b77c1-5ef0-480b-9449-31111f10606c",
   "metadata": {},
   "outputs": [
    {
     "data": {
      "text/plain": [
       "<seaborn.axisgrid.JointGrid at 0x2d32effbdc0>"
      ]
     },
     "execution_count": 13,
     "metadata": {},
     "output_type": "execute_result"
    },
    {
     "data": {
      "image/png": "[encoded data removed]",
      "text/plain": [
       "<Figure size 432x432 with 3 Axes>"
      ]
     },
     "metadata": {
      "needs_background": "light"
     },
     "output_type": "display_data"
    },
    {
     "data": {
      "image/png": "[encoded data removed]",
      "text/plain": [
       "<Figure size 432x432 with 3 Axes>"
      ]
     },
     "metadata": {
      "needs_background": "light"
     },
     "output_type": "display_data"
    }
   ],
   "source": [
    "sns.jointplot(data=data, x=\"studytime\", y=\"Failures\", kind=\"hist\")\n",
    "sns.jointplot(data=data, x=\"studytime\", y=\"Failures\", kind=\"reg\")"
   ]
  },
  {
   "cell_type": "code",
   "execution_count": 14,
   "id": "bb0da59d-f178-4eb1-8c88-a08c5608455b",
   "metadata": {},
   "outputs": [
    {
     "name": "stdout",
     "output_type": "stream",
     "text": [
      "Correlation coefficient r:\n",
      "0.249788689998863\n",
      "with Standard error SE:\n",
      "0.036861080126113825\n"
     ]
    },
    {
     "data": {
      "image/png": "[encoded data removed]",
      "text/plain": [
       "<Figure size 432x288 with 1 Axes>"
      ]
     },
     "metadata": {
      "needs_background": "light"
     },
     "output_type": "display_data"
    }
   ],
   "source": [
    "#correlation coefficient between Study time and Final Grade (=G3)\n",
    "y=data.G3\n",
    "r=np.corrcoef(x, y)[1,0] #correlation coefficient\n",
    "SE=(1-r**2)/mt.sqrt(n-2) #standard error\n",
    "print('Correlation coefficient r:')\n",
    "print(r)\n",
    "print('with Standard error SE:')\n",
    "print(SE)\n",
    "ax = sns.boxplot(x=\"studytime\", y=\"G3\", data=data)\n",
    "#we can see that the G3 mean for each studytime value grows as the studytime value gets higher"
   ]
  },
  {
   "cell_type": "code",
   "execution_count": 15,
   "id": "becc34e3-0863-402c-9d4e-d51172e15694",
   "metadata": {},
   "outputs": [
    {
     "name": "stdout",
     "output_type": "stream",
     "text": [
      "Correlation coefficient r:\n",
      "0.06336112772983048\n",
      "with Standard error SE:\n",
      "0.03915622520852588\n"
     ]
    },
    {
     "data": {
      "image/png": "[encoded data removed]",
      "text/plain": [
       "<Figure size 432x288 with 1 Axes>"
      ]
     },
     "metadata": {
      "needs_background": "light"
     },
     "output_type": "display_data"
    }
   ],
   "source": [
    "#correlation coefficient between Families relationship and Final Grade (=G3)\n",
    "x=data.Famrel\n",
    "r=np.corrcoef(x, y)[1,0] #correlation coefficient\n",
    "SE=(1-r**2)/mt.sqrt(n-2) #standard error\n",
    "print('Correlation coefficient r:')\n",
    "print(r)\n",
    "print('with Standard error SE:')\n",
    "print(SE)\n",
    "ax = sns.boxplot(x=\"Famrel\", y=\"G3\", data=data)\n",
    "#the correlation coefficient is really low"
   ]
  },
  {
   "cell_type": "code",
   "execution_count": 16,
   "id": "d9eb5192-c896-4b45-aaf1-30c2fddbbd63",
   "metadata": {},
   "outputs": [
    {
     "data": {
      "image/png": "[encoded data removed]",
      "text/plain": [
       "<Figure size 432x288 with 1 Axes>"
      ]
     },
     "metadata": {
      "needs_background": "light"
     },
     "output_type": "display_data"
    }
   ],
   "source": [
    "#correlation coefficient between Sex and Final Grade (=G3)\n",
    "x=data.sex\n",
    "ax = sns.boxplot(x=\"sex\", y=\"G3\", data=data)\n",
    "#[0,1]=woman ,[1,0]=man"
   ]
  }
 ],
 "metadata": {
  "kernelspec": {
   "display_name": "Python 3",
   "language": "python",
   "name": "python3"
  },
  "language_info": {
   "codemirror_mode": {
    "name": "ipython",
    "version": 3
   },
   "file_extension": ".py",
   "mimetype": "text/x-python",
   "name": "python",
   "nbconvert_exporter": "python",
   "pygments_lexer": "ipython3",
   "version": "3.8.8"
  }
 },
 "nbformat": 4,
 "nbformat_minor": 5
}
