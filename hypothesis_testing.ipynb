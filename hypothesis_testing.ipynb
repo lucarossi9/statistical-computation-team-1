{
 "cells": [
  {
   "cell_type": "code",
   "execution_count": 1,
   "id": "bb76c92e",
   "metadata": {},
   "outputs": [],
   "source": [
    "import pandas as pd\n",
    "import numpy as np\n",
    "import seaborn as sns\n",
    "import matplotlib.pyplot as plt\n",
    "import scipy.stats as st\n",
    "import statistics as stats\n",
    "import statsmodels.api as sm\n",
    "import researchpy as rp"
   ]
  },
  {
   "cell_type": "code",
   "execution_count": 3,
   "id": "95fcef0f",
   "metadata": {},
   "outputs": [
    {
     "data": {
      "text/html": [
       "<div>\n",
       "<style scoped>\n",
       "    .dataframe tbody tr th:only-of-type {\n",
       "        vertical-align: middle;\n",
       "    }\n",
       "\n",
       "    .dataframe tbody tr th {\n",
       "        vertical-align: top;\n",
       "    }\n",
       "\n",
       "    .dataframe thead th {\n",
       "        text-align: right;\n",
       "    }\n",
       "</style>\n",
       "<table border=\"1\" class=\"dataframe\">\n",
       "  <thead>\n",
       "    <tr style=\"text-align: right;\">\n",
       "      <th></th>\n",
       "      <th>school</th>\n",
       "      <th>sex</th>\n",
       "      <th>age</th>\n",
       "      <th>address</th>\n",
       "      <th>famsize</th>\n",
       "      <th>Pstatus</th>\n",
       "      <th>Medu</th>\n",
       "      <th>Fedu</th>\n",
       "      <th>Mjob</th>\n",
       "      <th>Fjob</th>\n",
       "      <th>...</th>\n",
       "      <th>famrel</th>\n",
       "      <th>freetime</th>\n",
       "      <th>goout</th>\n",
       "      <th>Dalc</th>\n",
       "      <th>Walc</th>\n",
       "      <th>health</th>\n",
       "      <th>absences</th>\n",
       "      <th>G1</th>\n",
       "      <th>G2</th>\n",
       "      <th>G3</th>\n",
       "    </tr>\n",
       "  </thead>\n",
       "  <tbody>\n",
       "    <tr>\n",
       "      <th>0</th>\n",
       "      <td>GP</td>\n",
       "      <td>F</td>\n",
       "      <td>18</td>\n",
       "      <td>U</td>\n",
       "      <td>GT3</td>\n",
       "      <td>A</td>\n",
       "      <td>4</td>\n",
       "      <td>4</td>\n",
       "      <td>at_home</td>\n",
       "      <td>teacher</td>\n",
       "      <td>...</td>\n",
       "      <td>4</td>\n",
       "      <td>3</td>\n",
       "      <td>4</td>\n",
       "      <td>1</td>\n",
       "      <td>1</td>\n",
       "      <td>3</td>\n",
       "      <td>4</td>\n",
       "      <td>0</td>\n",
       "      <td>11</td>\n",
       "      <td>11</td>\n",
       "    </tr>\n",
       "    <tr>\n",
       "      <th>1</th>\n",
       "      <td>GP</td>\n",
       "      <td>F</td>\n",
       "      <td>17</td>\n",
       "      <td>U</td>\n",
       "      <td>GT3</td>\n",
       "      <td>T</td>\n",
       "      <td>1</td>\n",
       "      <td>1</td>\n",
       "      <td>at_home</td>\n",
       "      <td>other</td>\n",
       "      <td>...</td>\n",
       "      <td>5</td>\n",
       "      <td>3</td>\n",
       "      <td>3</td>\n",
       "      <td>1</td>\n",
       "      <td>1</td>\n",
       "      <td>3</td>\n",
       "      <td>2</td>\n",
       "      <td>9</td>\n",
       "      <td>11</td>\n",
       "      <td>11</td>\n",
       "    </tr>\n",
       "    <tr>\n",
       "      <th>2</th>\n",
       "      <td>GP</td>\n",
       "      <td>F</td>\n",
       "      <td>15</td>\n",
       "      <td>U</td>\n",
       "      <td>LE3</td>\n",
       "      <td>T</td>\n",
       "      <td>1</td>\n",
       "      <td>1</td>\n",
       "      <td>at_home</td>\n",
       "      <td>other</td>\n",
       "      <td>...</td>\n",
       "      <td>4</td>\n",
       "      <td>3</td>\n",
       "      <td>2</td>\n",
       "      <td>2</td>\n",
       "      <td>3</td>\n",
       "      <td>3</td>\n",
       "      <td>6</td>\n",
       "      <td>12</td>\n",
       "      <td>13</td>\n",
       "      <td>12</td>\n",
       "    </tr>\n",
       "    <tr>\n",
       "      <th>3</th>\n",
       "      <td>GP</td>\n",
       "      <td>F</td>\n",
       "      <td>15</td>\n",
       "      <td>U</td>\n",
       "      <td>GT3</td>\n",
       "      <td>T</td>\n",
       "      <td>4</td>\n",
       "      <td>2</td>\n",
       "      <td>health</td>\n",
       "      <td>services</td>\n",
       "      <td>...</td>\n",
       "      <td>3</td>\n",
       "      <td>2</td>\n",
       "      <td>2</td>\n",
       "      <td>1</td>\n",
       "      <td>1</td>\n",
       "      <td>5</td>\n",
       "      <td>0</td>\n",
       "      <td>14</td>\n",
       "      <td>14</td>\n",
       "      <td>14</td>\n",
       "    </tr>\n",
       "    <tr>\n",
       "      <th>4</th>\n",
       "      <td>GP</td>\n",
       "      <td>F</td>\n",
       "      <td>16</td>\n",
       "      <td>U</td>\n",
       "      <td>GT3</td>\n",
       "      <td>T</td>\n",
       "      <td>3</td>\n",
       "      <td>3</td>\n",
       "      <td>other</td>\n",
       "      <td>other</td>\n",
       "      <td>...</td>\n",
       "      <td>4</td>\n",
       "      <td>3</td>\n",
       "      <td>2</td>\n",
       "      <td>1</td>\n",
       "      <td>2</td>\n",
       "      <td>5</td>\n",
       "      <td>0</td>\n",
       "      <td>11</td>\n",
       "      <td>13</td>\n",
       "      <td>13</td>\n",
       "    </tr>\n",
       "    <tr>\n",
       "      <th>...</th>\n",
       "      <td>...</td>\n",
       "      <td>...</td>\n",
       "      <td>...</td>\n",
       "      <td>...</td>\n",
       "      <td>...</td>\n",
       "      <td>...</td>\n",
       "      <td>...</td>\n",
       "      <td>...</td>\n",
       "      <td>...</td>\n",
       "      <td>...</td>\n",
       "      <td>...</td>\n",
       "      <td>...</td>\n",
       "      <td>...</td>\n",
       "      <td>...</td>\n",
       "      <td>...</td>\n",
       "      <td>...</td>\n",
       "      <td>...</td>\n",
       "      <td>...</td>\n",
       "      <td>...</td>\n",
       "      <td>...</td>\n",
       "      <td>...</td>\n",
       "    </tr>\n",
       "    <tr>\n",
       "      <th>644</th>\n",
       "      <td>MS</td>\n",
       "      <td>F</td>\n",
       "      <td>19</td>\n",
       "      <td>R</td>\n",
       "      <td>GT3</td>\n",
       "      <td>T</td>\n",
       "      <td>2</td>\n",
       "      <td>3</td>\n",
       "      <td>services</td>\n",
       "      <td>other</td>\n",
       "      <td>...</td>\n",
       "      <td>5</td>\n",
       "      <td>4</td>\n",
       "      <td>2</td>\n",
       "      <td>1</td>\n",
       "      <td>2</td>\n",
       "      <td>5</td>\n",
       "      <td>4</td>\n",
       "      <td>10</td>\n",
       "      <td>11</td>\n",
       "      <td>10</td>\n",
       "    </tr>\n",
       "    <tr>\n",
       "      <th>645</th>\n",
       "      <td>MS</td>\n",
       "      <td>F</td>\n",
       "      <td>18</td>\n",
       "      <td>U</td>\n",
       "      <td>LE3</td>\n",
       "      <td>T</td>\n",
       "      <td>3</td>\n",
       "      <td>1</td>\n",
       "      <td>teacher</td>\n",
       "      <td>services</td>\n",
       "      <td>...</td>\n",
       "      <td>4</td>\n",
       "      <td>3</td>\n",
       "      <td>4</td>\n",
       "      <td>1</td>\n",
       "      <td>1</td>\n",
       "      <td>1</td>\n",
       "      <td>4</td>\n",
       "      <td>15</td>\n",
       "      <td>15</td>\n",
       "      <td>16</td>\n",
       "    </tr>\n",
       "    <tr>\n",
       "      <th>646</th>\n",
       "      <td>MS</td>\n",
       "      <td>F</td>\n",
       "      <td>18</td>\n",
       "      <td>U</td>\n",
       "      <td>GT3</td>\n",
       "      <td>T</td>\n",
       "      <td>1</td>\n",
       "      <td>1</td>\n",
       "      <td>other</td>\n",
       "      <td>other</td>\n",
       "      <td>...</td>\n",
       "      <td>1</td>\n",
       "      <td>1</td>\n",
       "      <td>1</td>\n",
       "      <td>1</td>\n",
       "      <td>1</td>\n",
       "      <td>5</td>\n",
       "      <td>6</td>\n",
       "      <td>11</td>\n",
       "      <td>12</td>\n",
       "      <td>9</td>\n",
       "    </tr>\n",
       "    <tr>\n",
       "      <th>647</th>\n",
       "      <td>MS</td>\n",
       "      <td>M</td>\n",
       "      <td>17</td>\n",
       "      <td>U</td>\n",
       "      <td>LE3</td>\n",
       "      <td>T</td>\n",
       "      <td>3</td>\n",
       "      <td>1</td>\n",
       "      <td>services</td>\n",
       "      <td>services</td>\n",
       "      <td>...</td>\n",
       "      <td>2</td>\n",
       "      <td>4</td>\n",
       "      <td>5</td>\n",
       "      <td>3</td>\n",
       "      <td>4</td>\n",
       "      <td>2</td>\n",
       "      <td>6</td>\n",
       "      <td>10</td>\n",
       "      <td>10</td>\n",
       "      <td>10</td>\n",
       "    </tr>\n",
       "    <tr>\n",
       "      <th>648</th>\n",
       "      <td>MS</td>\n",
       "      <td>M</td>\n",
       "      <td>18</td>\n",
       "      <td>R</td>\n",
       "      <td>LE3</td>\n",
       "      <td>T</td>\n",
       "      <td>3</td>\n",
       "      <td>2</td>\n",
       "      <td>services</td>\n",
       "      <td>other</td>\n",
       "      <td>...</td>\n",
       "      <td>4</td>\n",
       "      <td>4</td>\n",
       "      <td>1</td>\n",
       "      <td>3</td>\n",
       "      <td>4</td>\n",
       "      <td>5</td>\n",
       "      <td>4</td>\n",
       "      <td>10</td>\n",
       "      <td>11</td>\n",
       "      <td>11</td>\n",
       "    </tr>\n",
       "  </tbody>\n",
       "</table>\n",
       "<p>649 rows × 33 columns</p>\n",
       "</div>"
      ],
      "text/plain": [
       "    school sex  age address famsize Pstatus  Medu  Fedu      Mjob      Fjob  \\\n",
       "0       GP   F   18       U     GT3       A     4     4   at_home   teacher   \n",
       "1       GP   F   17       U     GT3       T     1     1   at_home     other   \n",
       "2       GP   F   15       U     LE3       T     1     1   at_home     other   \n",
       "3       GP   F   15       U     GT3       T     4     2    health  services   \n",
       "4       GP   F   16       U     GT3       T     3     3     other     other   \n",
       "..     ...  ..  ...     ...     ...     ...   ...   ...       ...       ...   \n",
       "644     MS   F   19       R     GT3       T     2     3  services     other   \n",
       "645     MS   F   18       U     LE3       T     3     1   teacher  services   \n",
       "646     MS   F   18       U     GT3       T     1     1     other     other   \n",
       "647     MS   M   17       U     LE3       T     3     1  services  services   \n",
       "648     MS   M   18       R     LE3       T     3     2  services     other   \n",
       "\n",
       "     ... famrel freetime  goout  Dalc  Walc health absences  G1  G2  G3  \n",
       "0    ...      4        3      4     1     1      3        4   0  11  11  \n",
       "1    ...      5        3      3     1     1      3        2   9  11  11  \n",
       "2    ...      4        3      2     2     3      3        6  12  13  12  \n",
       "3    ...      3        2      2     1     1      5        0  14  14  14  \n",
       "4    ...      4        3      2     1     2      5        0  11  13  13  \n",
       "..   ...    ...      ...    ...   ...   ...    ...      ...  ..  ..  ..  \n",
       "644  ...      5        4      2     1     2      5        4  10  11  10  \n",
       "645  ...      4        3      4     1     1      1        4  15  15  16  \n",
       "646  ...      1        1      1     1     1      5        6  11  12   9  \n",
       "647  ...      2        4      5     3     4      2        6  10  10  10  \n",
       "648  ...      4        4      1     3     4      5        4  10  11  11  \n",
       "\n",
       "[649 rows x 33 columns]"
      ]
     },
     "execution_count": 3,
     "metadata": {},
     "output_type": "execute_result"
    }
   ],
   "source": [
    "#opening data\n",
    "#data=pd.read_csv('student-por preprocessed def.csv', sep=';')\n",
    "data=pd.read_csv('student-por.csv', sep=';')\n",
    "data"
   ]
  },
  {
   "cell_type": "code",
   "execution_count": 4,
   "id": "4cbdcc99",
   "metadata": {},
   "outputs": [
    {
     "name": "stderr",
     "output_type": "stream",
     "text": [
      "/Applications/anaconda/anaconda3/lib/python3.8/site-packages/seaborn/_decorators.py:36: FutureWarning: Pass the following variables as keyword args: x, y. From version 0.12, the only valid positional argument will be `data`, and passing other arguments without an explicit keyword will result in an error or misinterpretation.\n",
      "  warnings.warn(\n",
      "/Applications/anaconda/anaconda3/lib/python3.8/site-packages/seaborn/_decorators.py:36: FutureWarning: Pass the following variables as keyword args: x, y. From version 0.12, the only valid positional argument will be `data`, and passing other arguments without an explicit keyword will result in an error or misinterpretation.\n",
      "  warnings.warn(\n",
      "/Applications/anaconda/anaconda3/lib/python3.8/site-packages/seaborn/_decorators.py:36: FutureWarning: Pass the following variables as keyword args: x, y. From version 0.12, the only valid positional argument will be `data`, and passing other arguments without an explicit keyword will result in an error or misinterpretation.\n",
      "  warnings.warn(\n"
     ]
    },
    {
     "data": {
      "text/plain": [
       "Text(0, 0.5, 'number of students')"
      ]
     },
     "execution_count": 4,
     "metadata": {},
     "output_type": "execute_result"
    },
    {
     "data": {
      "image/png": "[encoded data removed]",
      "text/plain": [
       "<Figure size 1152x288 with 6 Axes>"
      ]
     },
     "metadata": {
      "needs_background": "light"
     },
     "output_type": "display_data"
    }
   ],
   "source": [
    "#study if the distribution of grades is normal: plot of density\n",
    "\n",
    "\n",
    "#creating subplot all sharing the same axes\n",
    "fig, axes=plt.subplots(1, 3, sharex=True, sharey=True, figsize=(16,4))\n",
    "\n",
    "#subplot of the first period grades\n",
    "sns.histplot(data, x='G1', bins=20, log_scale=(False,False), ax=axes[0]) \n",
    "axes[0].set_title('density of the first period grades')\n",
    "\n",
    "#plot of gaussian distribution to compare\n",
    "mu1=data['G1'].mean()\n",
    "sigma1=stats.stdev(data['G1'])\n",
    "x = np.linspace(0, 20, 100)\n",
    "ax = axes[0].twinx()\n",
    "sns.lineplot(x, st.norm.pdf(x, mu1, sigma1), color='r', ax=ax)\n",
    "\n",
    "#subplot of the second period grades\n",
    "sns.histplot(data,x='G2', bins=20, log_scale=(False,False),ax=axes[1],color='g')\n",
    "axes[1].set_title('density of the second period grades')\n",
    "\n",
    "#plot of gaussian distribution to compare\n",
    "mu2=data['G2'].mean()\n",
    "sigma2=stats.stdev(data['G2'])\n",
    "ax = axes[1].twinx()\n",
    "sns.lineplot(x, st.norm.pdf(x, mu2, sigma2), color='r', ax=ax)\n",
    "\n",
    "#subplot of final grades\n",
    "sns.histplot(data,x='G3', bins=20, log_scale=(False,False),ax=axes[2],color='y')\n",
    "axes[2].set_title('density of final grades')\n",
    "\n",
    "#plot of gaussian distribution to compare\n",
    "mu3=data['G3'].mean()\n",
    "sigma3=stats.stdev(data['G3'])\n",
    "ax = axes[2].twinx()\n",
    "sns.lineplot(x, st.norm.pdf(x, mu3, sigma3), color='r', ax=ax)\n",
    "\n",
    "#set name of y \n",
    "axes[0].set_ylabel('number of students')\n",
    "\n",
    "#the three densities seem to fit the gaussian distribution but not so well now we are going to try to see if there \n",
    "#is evidence to think that they are actually normal"
   ]
  },
  {
   "cell_type": "code",
   "execution_count": 5,
   "id": "bd2b5d48",
   "metadata": {},
   "outputs": [
    {
     "data": {
      "text/plain": [
       "<AxesSubplot:>"
      ]
     },
     "execution_count": 5,
     "metadata": {},
     "output_type": "execute_result"
    },
    {
     "data": {
      "image/png": "[encoded data removed]",
      "text/plain": [
       "<Figure size 720x1152 with 6 Axes>"
      ]
     },
     "metadata": {
      "needs_background": "light"
     },
     "output_type": "display_data"
    }
   ],
   "source": [
    "#another tecnique to check if data are actually normal distributed\n",
    "#creating new subplots\n",
    "fig, axes=plt.subplots(3, 2, sharex=True, sharey=True, figsize=(10,16))\n",
    "\n",
    "#boxplot of G1\n",
    "sns.boxplot(y=data['G1'], ax=axes[0,0]) \n",
    "\n",
    "#boxplot of normal data with mean and standard deviation of G1\n",
    "sns.boxplot( y=st.norm.rvs(size=100, loc=mu1, scale=sigma1), color='r', ax=axes[0,1])\n",
    "\n",
    "#boxplot of G2\n",
    "sns.boxplot(y=data['G2'], ax=axes[1,0], color='g')\n",
    "\n",
    "#boxplot of normal data with mean and standard deviation of G2\n",
    "sns.boxplot( y=st.norm.rvs(size=100, loc=mu2, scale=sigma2), color='r', ax=axes[1,1])\n",
    "\n",
    "#boxplot of G2\n",
    "sns.boxplot(y=data['G3'], ax=axes[2,0], color='y')\n",
    "\n",
    "#boxplot of normal data with mean and standard deviation of G3\n",
    "sns.boxplot( y=st.norm.rvs(size=100, loc=mu3, scale=sigma3), color='r', ax=axes[2,1])\n"
   ]
  },
  {
   "cell_type": "code",
   "execution_count": 6,
   "id": "233738f6",
   "metadata": {},
   "outputs": [
    {
     "name": "stdout",
     "output_type": "stream",
     "text": [
      "ShapiroResult(statistic=0.9616650342941284, pvalue=5.578248800375274e-12)\n",
      "ShapiroResult(statistic=0.9855359792709351, pvalue=4.922839707433013e-06)\n",
      "ShapiroResult(statistic=0.9259759783744812, pvalue=2.4126299171356578e-17)\n"
     ]
    },
    {
     "data": {
      "image/png": "[encoded data removed]",
      "text/plain": [
       "<Figure size 432x288 with 1 Axes>"
      ]
     },
     "metadata": {
      "needs_background": "light"
     },
     "output_type": "display_data"
    },
    {
     "data": {
      "image/png": "[encoded data removed]",
      "text/plain": [
       "<Figure size 432x288 with 1 Axes>"
      ]
     },
     "metadata": {
      "needs_background": "light"
     },
     "output_type": "display_data"
    },
    {
     "data": {
      "image/png": "[encoded data removed]",
      "text/plain": [
       "<Figure size 432x288 with 1 Axes>"
      ]
     },
     "metadata": {
      "needs_background": "light"
     },
     "output_type": "display_data"
    }
   ],
   "source": [
    "#try to prove the normality of datas with more specific tecniques\n",
    "sm.qqplot(data['G2'], line='45')\n",
    "sm.qqplot(data['G3'], line='45')\n",
    "sm.qqplot(data['G1'], line='45')\n",
    "print(st.shapiro(data['G2']))\n",
    "print(st.shapiro(data['G1']))\n",
    "print(st.shapiro(data['G3']))\n",
    "\n",
    "#as we can observe our data are not actually normal because the qqplot shows perfectly that our data are far away from\n",
    "#the red line (line of theoretical quantiles). in addition also the shapiro test has a p value very small, which\n",
    "#suggest to refuse the null hypothesis (distribution is normal)\n",
    "\n"
   ]
  },
  {
   "cell_type": "code",
   "execution_count": 7,
   "id": "c2c6d881",
   "metadata": {},
   "outputs": [
    {
     "name": "stdout",
     "output_type": "stream",
     "text": [
      "ShapiroResult(statistic=0.9758786559104919, pvalue=1.0525653237891675e-08)\n"
     ]
    }
   ],
   "source": [
    "#we observe from the boxplot that the outliers are those values <5\n",
    "print(st.shapiro(data['G3'][data['G3']>=5]))\n",
    "#the p value is still too small to believe that our distribution is normal "
   ]
  },
  {
   "cell_type": "code",
   "execution_count": 8,
   "id": "633cb0c1",
   "metadata": {},
   "outputs": [],
   "source": [
    "#is there a significant difference between boys and girls?\n",
    "#to answer we apply some hypothesis test on the differences between girls' mean and boys' mean\n"
   ]
  },
  {
   "cell_type": "code",
   "execution_count": 9,
   "id": "1f464b7c",
   "metadata": {},
   "outputs": [
    {
     "name": "stdout",
     "output_type": "stream",
     "text": [
      "   Variable      N       Mean        SD        SE  95% Conf.   Interval\n",
      "0      Male  266.0  11.056391  2.640865  0.161922  10.737574  11.375208\n",
      "1    Female  383.0  11.637076  2.794232  0.142779  11.356345  11.917806\n",
      "2  combined  649.0  11.399076  2.745265  0.107761  11.187472  11.610679\n",
      "                  Welch's t-test   results\n",
      "0  Difference (Male - Female) =    -0.5807\n",
      "1          Degrees of freedom =   591.9478\n",
      "2                           t =    -2.6898\n",
      "3       Two side test p value =     0.0074\n",
      "4      Difference < 0 p value =     0.0037\n",
      "5      Difference > 0 p value =     0.9963\n",
      "6                   Cohen's d =    -0.2125\n",
      "7                   Hedge's g =    -0.2123\n",
      "8               Glass's delta =    -0.2199\n",
      "9                 Pearson's r =     0.1099\n"
     ]
    }
   ],
   "source": [
    "#t test on G1 \n",
    "summary, results = rp.ttest(group1= data['G1'][data['sex'] == 'M'], group1_name= \"Male\",\n",
    "         group2= data['G1'][data['sex'] == 'F'], group2_name= \"Female\", equal_variances= False)\n",
    "print(summary)\n",
    "print(results)\n",
    "#we notice that both 'two side test' and 'difference <0 test' has a small p value (even minor than 0.01) so we can\n",
    "#conclude that in the first period girls were better than boys"
   ]
  },
  {
   "cell_type": "code",
   "execution_count": 10,
   "id": "a3db5c7c",
   "metadata": {},
   "outputs": [
    {
     "name": "stdout",
     "output_type": "stream",
     "text": [
      "   Variable      N       Mean        SD        SE  95% Conf.   Interval\n",
      "0      Male  266.0  11.206767  2.800019  0.171680  10.868736  11.544798\n",
      "1    Female  383.0  11.822454  2.967506  0.151632  11.524316  12.120593\n",
      "2  combined  649.0  11.570108  2.913639  0.114370  11.345527  11.794689\n",
      "                  Welch's t-test   results\n",
      "0  Difference (Male - Female) =    -0.6157\n",
      "1          Degrees of freedom =   592.4999\n",
      "2                           t =    -2.6879\n",
      "3       Two side test p value =     0.0074\n",
      "4      Difference < 0 p value =     0.0037\n",
      "5      Difference > 0 p value =     0.9963\n",
      "6                   Cohen's d =    -0.2123\n",
      "7                   Hedge's g =    -0.2121\n",
      "8               Glass's delta =    -0.2199\n",
      "9                 Pearson's r =     0.1098\n"
     ]
    }
   ],
   "source": [
    "#t test on G2\n",
    "summary, results = rp.ttest(group1= data['G2'][data['sex'] == 'M'], group1_name= \"Male\",\n",
    "         group2= data['G2'][data['sex'] == 'F'], group2_name= \"Female\", equal_variances= False)\n",
    "print(summary)\n",
    "print(results)\n",
    "#again both the tests has p value really small evidence that girls' grades kept bigger than boys' \n",
    "#(the difference between the means is even bigger)"
   ]
  },
  {
   "cell_type": "code",
   "execution_count": 11,
   "id": "2ab14c3d",
   "metadata": {},
   "outputs": [
    {
     "name": "stdout",
     "output_type": "stream",
     "text": [
      "   Variable      N       Mean        SD        SE  95% Conf.   Interval\n",
      "0      Male  266.0  11.406015  3.320690  0.203605  11.005127  11.806904\n",
      "1    Female  383.0  12.253264  3.124147  0.159636  11.939388  12.567140\n",
      "2  combined  649.0  11.906009  3.230656  0.126814  11.656993  12.155026\n",
      "                  Welch's t-test   results\n",
      "0  Difference (Male - Female) =    -0.8472\n",
      "1          Degrees of freedom =   549.3077\n",
      "2                           t =    -3.2747\n",
      "3       Two side test p value =     0.0011\n",
      "4      Difference < 0 p value =     0.0006\n",
      "5      Difference > 0 p value =     0.9994\n",
      "6                   Cohen's d =    -0.2643\n",
      "7                   Hedge's g =    -0.2640\n",
      "8               Glass's delta =    -0.2551\n",
      "9                 Pearson's r =     0.1384\n"
     ]
    }
   ],
   "source": [
    "#t test on final grades\n",
    "summary, results = rp.ttest(group1= data['G3'][data['sex'] == 'M'], group1_name= \"Male\",\n",
    "         group2= data['G3'][data['sex'] == 'F'], group2_name= \"Female\", equal_variances= False)\n",
    "print(summary)\n",
    "print(results)\n",
    "#here again we have the same results as before, but p values here are smaller which makes also believe that \n",
    "#girls tend to improve their grades more that boys do even if looking at the averages both girls and boys \n",
    "#have improved their grades\n",
    "\n",
    "#from this analysis we assume that girls have better grades "
   ]
  },
  {
   "cell_type": "code",
   "execution_count": 12,
   "id": "113d02e7",
   "metadata": {},
   "outputs": [
    {
     "name": "stdout",
     "output_type": "stream",
     "text": [
      "   Variable      N      Mean        SD        SE  95% Conf.  Interval\n",
      "0      Male  266.0  1.725564  0.826372  0.050668   1.625801  1.825327\n",
      "1    Female  383.0  2.073107  0.802406  0.041001   1.992491  2.153723\n",
      "2  combined  649.0  1.930663  0.829510  0.032561   1.866725  1.994601\n",
      "                  Welch's t-test   results\n",
      "0  Difference (Male - Female) =    -0.3475\n",
      "1          Degrees of freedom =   561.2352\n",
      "2                           t =    -5.3321\n",
      "3       Two side test p value =     0.0000\n",
      "4      Difference < 0 p value =     0.0000\n",
      "5      Difference > 0 p value =     1.0000\n",
      "6                   Cohen's d =    -0.4278\n",
      "7                   Hedge's g =    -0.4274\n",
      "8               Glass's delta =    -0.4206\n",
      "9                 Pearson's r =     0.2196\n"
     ]
    }
   ],
   "source": [
    "#but why is there this difference between girls and boys? Is it due to the greater number of hours that girls spend\n",
    "#studying?\n",
    "\n",
    "#t test on difference of study time between girls and boys\n",
    "summary, results = rp.ttest(group1= data['studytime'][data['sex'] == 'M'], group1_name= \"Male\",\n",
    "         group2= data['studytime'][data['sex'] == 'F'], group2_name= \"Female\", equal_variances= False)\n",
    "print(summary)\n",
    "print(results)\n",
    "\n",
    "#according to this test it is true that girls study much more than boys considering that this dataset doesn't give the \n",
    "#study time hours. it devides the study time in zones from 1 to 5 and being in the third zone for example means that \n",
    "#a person spend more than 5 hours studying\n"
   ]
  },
  {
   "cell_type": "code",
   "execution_count": 13,
   "id": "d287f29e",
   "metadata": {},
   "outputs": [
    {
     "name": "stdout",
     "output_type": "stream",
     "text": [
      "   Variable      N       Mean        SD        SE  95% Conf.   Interval\n",
      "0      less  517.0  11.580271  3.287844  0.144599  11.296195  11.864346\n",
      "1      more  132.0  13.181818  2.643783  0.230112  12.726602  13.637034\n",
      "2  combined  649.0  11.906009  3.230656  0.126814  11.656993  12.155026\n",
      "                Welch's t-test   results\n",
      "0  Difference (less - more) =    -1.6015\n",
      "1        Degrees of freedom =   246.8121\n",
      "2                         t =    -5.8930\n",
      "3     Two side test p value =     0.0000\n",
      "4    Difference < 0 p value =     0.0000\n",
      "5    Difference > 0 p value =     1.0000\n",
      "6                 Cohen's d =    -0.5055\n",
      "7                 Hedge's g =    -0.5049\n",
      "8             Glass's delta =    -0.4871\n",
      "9               Pearson's r =     0.3512\n"
     ]
    }
   ],
   "source": [
    "#from previous analysis it appears that the more people spend time study, the higher their grades are\n",
    "#but is it actually true? \n",
    "\n",
    "#this time I'll compare only final grades because I suppose that the study time will make grades increase only after \n",
    "#few time from the biginning of the academic year\n",
    "\n",
    "summary, results = rp.ttest(group1= data['G3'][data['studytime'] <= 2], group1_name= \"less\",\n",
    "         group2= data['G3'][data['studytime'] >= 3], group2_name= \"more\", equal_variances= False)\n",
    "print(summary)\n",
    "print(results)\n",
    "\n",
    "#it is absolutely true that people who study more than ten hours have better grades than people who study less than \n",
    "#two hour, but it's not obviously enough to assert that our hypothesis is true\n",
    "#"
   ]
  },
  {
   "cell_type": "code",
   "execution_count": 14,
   "id": "4f30ab84",
   "metadata": {},
   "outputs": [
    {
     "name": "stdout",
     "output_type": "stream",
     "text": [
      "   Variable      N       Mean        SD        SE  95% Conf.   Interval\n",
      "0      less   97.0  13.226804  2.502104  0.254050  12.722519  13.731090\n",
      "1      more   35.0  13.057143  3.038410  0.513585  12.013413  14.100873\n",
      "2  combined  132.0  13.181818  2.643783  0.230112  12.726602  13.637034\n",
      "                Welch's t-test  results\n",
      "0  Difference (less - more) =    0.1697\n",
      "1        Degrees of freedom =   52.5727\n",
      "2                         t =    0.2961\n",
      "3     Two side test p value =    0.7683\n",
      "4    Difference < 0 p value =    0.6158\n",
      "5    Difference > 0 p value =    0.3842\n",
      "6                 Cohen's d =    0.0640\n",
      "7                 Hedge's g =    0.0636\n",
      "8             Glass's delta =    0.0678\n",
      "9               Pearson's r =    0.0408\n"
     ]
    }
   ],
   "source": [
    "#now we compare people who study more than 10 hours with people who study between 5 and 10 hours\n",
    "summary, results = rp.ttest(group1= data['G3'][data['studytime'] == 3], group1_name= \"less\",\n",
    "         group2= data['G3'][data['studytime'] == 4], group2_name= \"more\", equal_variances= False)\n",
    "print(summary)\n",
    "print(results)\n",
    "\n",
    "#as we can observe here the two groups have the same grades' mean (in fact all the p values are very big and we always \n",
    "#accept H0 which means in the first test diff=0 while in the others diff>=0 and diff<=0 respectively) people who study less\n",
    "#even have better grades. as a consequence our assumption was wrong \n",
    "#"
   ]
  },
  {
   "cell_type": "code",
   "execution_count": null,
   "id": "adb789c9",
   "metadata": {},
   "outputs": [],
   "source": [
    "#we now want to see how does the family impact on the final grade of students"
   ]
  },
  {
   "cell_type": "code",
   "execution_count": 15,
   "id": "1843bf23",
   "metadata": {},
   "outputs": [
    {
     "name": "stdout",
     "output_type": "stream",
     "text": [
      "   Variable      N       Mean        SD        SE  95% Conf.   Interval\n",
      "0     alone   80.0  11.912500  3.222523  0.360289  11.195363  12.629637\n",
      "1      more  569.0  11.905097  3.234626  0.135603  11.638753  12.171440\n",
      "2  combined  649.0  11.906009  3.230656  0.126814  11.656993  12.155026\n",
      "                 Welch's t-test   results\n",
      "0  Difference (alone - more) =     0.0074\n",
      "1         Degrees of freedom =   103.2734\n",
      "2                          t =     0.0192\n",
      "3      Two side test p value =     0.9847\n",
      "4     Difference < 0 p value =     0.5077\n",
      "5     Difference > 0 p value =     0.4923\n",
      "6                  Cohen's d =     0.0023\n",
      "7                  Hedge's g =     0.0023\n",
      "8              Glass's delta =     0.0023\n",
      "9                Pearson's r =     0.0019\n"
     ]
    }
   ],
   "source": [
    "#t test to see if people with parents divorced have worst grades than others\n",
    "summary, results = rp.ttest(group1= data['G3'][data['Pstatus'] == \"A\"], group1_name= \"alone\",\n",
    "         group2= data['G3'][data['Pstatus'] == \"T\"], group2_name= \"more\", equal_variances= False)\n",
    "print(summary)\n",
    "print(results)\n",
    "\n",
    "#due to the risults we do not have evidence to support the previous hypothesis in fact the\n",
    "#the averages are almost the same"
   ]
  },
  {
   "cell_type": "code",
   "execution_count": 16,
   "id": "65b3bd6c",
   "metadata": {},
   "outputs": [
    {
     "name": "stdout",
     "output_type": "stream",
     "text": [
      "   Variable      N       Mean        SD        SE  95% Conf.   Interval\n",
      "0     small  192.0  12.130208  2.919285  0.210681  11.714648  12.545769\n",
      "1       big  457.0  11.811816  3.351426  0.156773  11.503729  12.119903\n",
      "2  combined  649.0  11.906009  3.230656  0.126814  11.656993  12.155026\n",
      "                Welch's t-test   results\n",
      "0  Difference (small - big) =     0.3184\n",
      "1        Degrees of freedom =   410.6020\n",
      "2                         t =     1.2124\n",
      "3     Two side test p value =     0.2261\n",
      "4    Difference < 0 p value =     0.8870\n",
      "5    Difference > 0 p value =     0.1130\n",
      "6                 Cohen's d =     0.0986\n",
      "7                 Hedge's g =     0.0985\n",
      "8             Glass's delta =     0.1091\n",
      "9               Pearson's r =     0.0597\n"
     ]
    }
   ],
   "source": [
    "#t test to see if there is difference between big or small families\n",
    "summary, results = rp.ttest(group1= data['G3'][data['famsize'] == \"LE3\"], group1_name= \"small\",\n",
    "         group2= data['G3'][data['famsize'] == \"GT3\"], group2_name= \"big\", equal_variances= False)\n",
    "print(summary)\n",
    "print(results)\n",
    "\n",
    "#apparently the dimention of families doesn't impact on the grades of students (neither in G1 and G2 cases)"
   ]
  },
  {
   "cell_type": "code",
   "execution_count": 17,
   "id": "a031df97",
   "metadata": {},
   "outputs": [
    {
     "name": "stdout",
     "output_type": "stream",
     "text": [
      "    Variable      N       Mean        SD        SE  95% Conf.   Interval\n",
      "0        bad   22.0  10.636364  3.645551  0.777234   9.020017  12.252710\n",
      "1  excellent  180.0  11.633333  3.584417  0.267167  11.106132  12.160535\n",
      "2   combined  202.0  11.524752  3.595448  0.252975  11.025927  12.023577\n",
      "                    Welch's t-test  results\n",
      "0  Difference (bad - excellent) =   -0.9970\n",
      "1            Degrees of freedom =   26.7054\n",
      "2                             t =   -1.2130\n",
      "3         Two side test p value =    0.2359\n",
      "4        Difference < 0 p value =    0.1179\n",
      "5        Difference > 0 p value =    0.8821\n",
      "6                     Cohen's d =   -0.2776\n",
      "7                     Hedge's g =   -0.2766\n",
      "8                 Glass's delta =   -0.2735\n",
      "9                   Pearson's r =    0.2285\n"
     ]
    }
   ],
   "source": [
    "#t test to test if the quality of relationships inside the family impact on students' grades \n",
    "summary, results = rp.ttest(group1= data['G3'][data['famrel'] == 1], group1_name= \"bad\",\n",
    "         group2= data['G3'][data['famrel'] == 5], group2_name= \"excellent\", equal_variances= False)\n",
    "print(summary)\n",
    "print(results)\n",
    "\n",
    "#this test make clear that there's not evidence to think that quality of family relationships have a \n",
    "#relevant impact on students' grades (also in G1 and G2)"
   ]
  },
  {
   "cell_type": "code",
   "execution_count": 18,
   "id": "49e51119",
   "metadata": {},
   "outputs": [
    {
     "name": "stdout",
     "output_type": "stream",
     "text": [
      "   Variable      N       Mean        SD        SE  95% Conf.   Interval\n",
      "0     small   47.0  12.042553  3.182544  0.464222  11.108123  12.976983\n",
      "1       big  145.0  12.158621  2.839884  0.235840  11.692466  12.624775\n",
      "2  combined  192.0  12.130208  2.919285  0.210681  11.714648  12.545769\n",
      "                Welch's t-test  results\n",
      "0  Difference (small - big) =   -0.1161\n",
      "1        Degrees of freedom =   72.3465\n",
      "2                         t =   -0.2229\n",
      "3     Two side test p value =    0.8242\n",
      "4    Difference < 0 p value =    0.4121\n",
      "5    Difference > 0 p value =    0.5879\n",
      "6                 Cohen's d =   -0.0397\n",
      "7                 Hedge's g =   -0.0395\n",
      "8             Glass's delta =   -0.0365\n",
      "9               Pearson's r =    0.0262\n"
     ]
    }
   ],
   "source": [
    "#we now try to see if there is evidence to think that only child with separated parents have worse grades than\n",
    "#children with parents who live together\n",
    "summary, results = rp.ttest(group1= data['G3'][data['famsize'] == \"LE3\"][data['Pstatus']=='A'], group1_name= \"small\",\n",
    "         group2= data['G3'][data['famsize'] == \"LE3\"][data['Pstatus']=='T'], group2_name= \"big\", equal_variances= False)\n",
    "print(summary)\n",
    "print(results)\n",
    "\n",
    "#again we have no evidence to think that the hypothesis above is true"
   ]
  },
  {
   "cell_type": "code",
   "execution_count": null,
   "id": "ad442a2c",
   "metadata": {},
   "outputs": [],
   "source": [
    "#as a consequence of these results, according to this dataset we have no evidence to believe that\n",
    "#family's relations (between parents or children) and dimentions have a relevant impact on students' grades"
   ]
  },
  {
   "cell_type": "code",
   "execution_count": null,
   "id": "a7c2c9cd",
   "metadata": {},
   "outputs": [],
   "source": []
  }
 ],
 "metadata": {
  "kernelspec": {
   "display_name": "Python 3",
   "language": "python",
   "name": "python3"
  },
  "language_info": {
   "codemirror_mode": {
    "name": "ipython",
    "version": 3
   },
   "file_extension": ".py",
   "mimetype": "text/x-python",
   "name": "python",
   "nbconvert_exporter": "python",
   "pygments_lexer": "ipython3",
   "version": "3.8.8"
  }
 },
 "nbformat": 4,
 "nbformat_minor": 5
}
